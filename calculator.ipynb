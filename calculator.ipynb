{
 "cells": [
  {
   "cell_type": "code",
   "execution_count": null,
   "metadata": {},
   "outputs": [
    {
     "name": "stdout",
     "output_type": "stream",
     "text": [
      "Kalkulator Sederhana: Pertambahan dan Pengurangan\n",
      "1. Tambah (+)\n",
      "2. Kurang (-)\n",
      "Hasil: 1.0 + 2.0 = 3.0\n"
     ]
    }
   ],
   "source": [
    "def kalkulator():\n",
    "    print(\"1. Tambah (+)\")\n",
    "    print(\"2. Kurang (-)\")\n",
    "    print(\"3. Kali (*)\")\n",
    "    \n",
    "    pilihan = input(\"Pilih operasi (1/2): \")\n",
    "\n",
    "    if pilihan in ['1', '2']:\n",
    "        try:\n",
    "            angka1 = float(input(\"Masukkan angka pertama: \"))\n",
    "            angka2 = float(input(\"Masukkan angka kedua: \"))\n",
    "\n",
    "            if pilihan == '1':\n",
    "                hasil = angka1 + angka2\n",
    "                operasi = '+'\n",
    "            else:\n",
    "                hasil = angka1 - angka2\n",
    "                operasi = '-'\n",
    "\n",
    "            print(f\"Hasil: {angka1} {operasi} {angka2} = {hasil}\")\n",
    "        except ValueError:\n",
    "            print(\"Input tidak valid.\")\n",
    "    else:\n",
    "        print(\"Pilihan tidak valid.\")\n",
    "\n",
    "# Jalankan kalkulator\n",
    "kalkulator()\n"
   ]
  },
  {
   "cell_type": "code",
   "execution_count": null,
   "metadata": {},
   "outputs": [],
   "source": []
  }
 ],
 "metadata": {
  "kernelspec": {
   "display_name": "Python 3",
   "language": "python",
   "name": "python3"
  },
  "language_info": {
   "codemirror_mode": {
    "name": "ipython",
    "version": 3
   },
   "file_extension": ".py",
   "mimetype": "text/x-python",
   "name": "python",
   "nbconvert_exporter": "python",
   "pygments_lexer": "ipython3",
   "version": "3.12.4"
  }
 },
 "nbformat": 4,
 "nbformat_minor": 2
}
